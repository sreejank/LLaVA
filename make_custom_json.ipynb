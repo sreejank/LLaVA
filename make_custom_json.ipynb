{
 "cells": [
  {
   "cell_type": "code",
   "execution_count": 1,
   "metadata": {},
   "outputs": [],
   "source": [
    "import pandas as pd \n",
    "import numpy as np \n",
    "import ast \n",
    "import matplotlib.pyplot as plt \n",
    "%matplotlib inline\n",
    "grid_chains=[]\n",
    "description_chains=[]\n",
    "df=pd.read_csv('data_grid7x7srb2.csv')\n",
    "for nid in list(set(df.network_id)):\n",
    "    grids=[]\n",
    "    descriptions=[]\n",
    "    df_nid=df[df.network_id==nid]\n",
    "    for i in range(len(df_nid)):\n",
    "        d=ast.literal_eval(df_nid.iloc[i].definition)\n",
    "        if d['node_type']=='reconstruct':\n",
    "            grids.append(d['grid_state'])\n",
    "            descriptions.append(d['grid_description'])\n",
    "    grid_chains.append(np.asarray(grids))\n",
    "    description_chains.append(np.asarray(descriptions))\n",
    "human_multimodal_grid_chains=np.asarray(grid_chains,dtype=np.object_)\n",
    "human_multimodal_description_chains=np.asarray(description_chains,dtype=np.object_)"
   ]
  },
  {
   "cell_type": "code",
   "execution_count": 2,
   "metadata": {},
   "outputs": [
    {
     "name": "stdout",
     "output_type": "stream",
     "text": [
      "801ba33f-b570-41d7-823c-d3c94add05fb\n"
     ]
    }
   ],
   "source": [
    "import uuid\n",
    "print(uuid.uuid4())"
   ]
  },
  {
   "cell_type": "code",
   "execution_count": 3,
   "metadata": {},
   "outputs": [
    {
     "ename": "NameError",
     "evalue": "name 'grid' is not defined",
     "output_type": "error",
     "traceback": [
      "\u001b[0;31m---------------------------------------------------------------------------\u001b[0m",
      "\u001b[0;31mNameError\u001b[0m                                 Traceback (most recent call last)",
      "Cell \u001b[0;32mIn[3], line 2\u001b[0m\n\u001b[1;32m      1\u001b[0m s\u001b[38;5;241m=\u001b[39m\u001b[38;5;124m\"\u001b[39m\u001b[38;5;124mThere are red tiles in the following (x,y) coordinates: \u001b[39m\u001b[38;5;124m\"\u001b[39m\n\u001b[0;32m----> 2\u001b[0m \u001b[38;5;28;01mfor\u001b[39;00m c \u001b[38;5;129;01min\u001b[39;00m \u001b[38;5;28mlist\u001b[39m(np\u001b[38;5;241m.\u001b[39mvstack(np\u001b[38;5;241m.\u001b[39mwhere(\u001b[43mgrid\u001b[49m\u001b[38;5;241m==\u001b[39m\u001b[38;5;241m1\u001b[39m))\u001b[38;5;241m.\u001b[39mT):\n\u001b[1;32m      3\u001b[0m     s\u001b[38;5;241m+\u001b[39m\u001b[38;5;241m=\u001b[39m\u001b[38;5;124m\"\u001b[39m\u001b[38;5;124m(\u001b[39m\u001b[38;5;124m\"\u001b[39m\u001b[38;5;241m+\u001b[39m\u001b[38;5;28mstr\u001b[39m(c[\u001b[38;5;241m0\u001b[39m])\u001b[38;5;241m+\u001b[39m\u001b[38;5;124m\"\u001b[39m\u001b[38;5;124m,\u001b[39m\u001b[38;5;124m\"\u001b[39m\u001b[38;5;241m+\u001b[39m\u001b[38;5;28mstr\u001b[39m(c[\u001b[38;5;241m1\u001b[39m])\u001b[38;5;241m+\u001b[39m\u001b[38;5;124m'\u001b[39m\u001b[38;5;124m), \u001b[39m\u001b[38;5;124m'\u001b[39m\n\u001b[1;32m      4\u001b[0m \u001b[38;5;28mprint\u001b[39m(s)\n",
      "\u001b[0;31mNameError\u001b[0m: name 'grid' is not defined"
     ]
    }
   ],
   "source": [
    "\n",
    "s=\"There are red tiles in the following (x,y) coordinates: \"\n",
    "for c in list(np.vstack(np.where(grid==1)).T):\n",
    "    s+=\"(\"+str(c[0])+\",\"+str(c[1])+'), '\n",
    "print(s)"
   ]
  },
  {
   "cell_type": "code",
   "execution_count": 10,
   "metadata": {},
   "outputs": [
    {
     "name": "stderr",
     "output_type": "stream",
     "text": [
      "100%|██████████| 100/100 [00:53<00:00,  1.85it/s]\n"
     ]
    }
   ],
   "source": [
    "from PIL import Image \n",
    "plt.ioff()\n",
    "json_lst=[]\n",
    "from tqdm import tqdm \n",
    "def make_sample(grid,lang):\n",
    "    id=uuid.uuid4()\n",
    "    plt.figure()\n",
    "    plt.imshow(grid,cmap='bwr',vmin=-1,vmax=1)\n",
    "    plt.axis('off')\n",
    "    plt.savefig('grid_images/{}.png'.format(id))\n",
    "    path='grid_images/{}.png'.format(id)\n",
    "    img=Image.open(path).convert('RGB').resize((225,225))\n",
    "    img.save(path)\n",
    "    s=\"There are red tiles in the following (x,y) coordinates: \"\n",
    "    for c in list(np.vstack(np.where(grid==1)).T):\n",
    "        s+=\"(\"+str(c[0])+\",\"+str(c[1])+'), '\n",
    "\n",
    "    conversations=[\n",
    "        {\n",
    "            \"from\": \"human\",\n",
    "            \"value\": \"<image>\\nThis image is a 7x7 grid of red and white tiles. Describe the pattern this grid images.\"\n",
    "        },\n",
    "        {\n",
    "            \"from\": \"gpt\",\n",
    "            \"value\": lang\n",
    "        },\n",
    "        {\n",
    "        \"from\":\"human\",\n",
    "        \"value\": \"Now list the location of all (x,y) coordinates for which there is a red tile. \"\n",
    "        },\n",
    "        {\n",
    "            \"from\": \"gpt\",\n",
    "            \"value\": s\n",
    "        }\n",
    "\n",
    "    ]\n",
    "    return dict(id=id,image=path,conversations=conversations)\n",
    "\n",
    "for chain_id in tqdm(range(100)):\n",
    "    for gen_id in range(len(human_multimodal_grid_chains[chain_id])):\n",
    "        lang=human_multimodal_description_chains[chain_id][gen_id]\n",
    "        grid=human_multimodal_grid_chains[chain_id][gen_id]\n",
    "        json_lst.append(make_sample(grid,lang))\n",
    "        "
   ]
  },
  {
   "cell_type": "code",
   "execution_count": 6,
   "metadata": {},
   "outputs": [],
   "source": [
    "for sample in json_lst:\n",
    "    sample['id']=str(sample['id'])"
   ]
  },
  {
   "cell_type": "code",
   "execution_count": 7,
   "metadata": {},
   "outputs": [],
   "source": [
    "for sample in json_lst:\n",
    "    sample['image']='/scratch/gpfs/sreejank/LLaVA/'+sample['image']"
   ]
  },
  {
   "cell_type": "code",
   "execution_count": 8,
   "metadata": {},
   "outputs": [],
   "source": [
    "import json\n",
    "with open('data.json', 'w') as f:\n",
    "    json.dump(json_lst, f)"
   ]
  },
  {
   "cell_type": "code",
   "execution_count": 36,
   "metadata": {},
   "outputs": [
    {
     "data": {
      "image/png": "[encoded data removed]",
      "text/plain": [
       "<Figure size 640x480 with 1 Axes>"
      ]
     },
     "metadata": {},
     "output_type": "display_data"
    }
   ],
   "source": [
    "test_grid=np.zeros((7,7))\n",
    "test_grid[3,:]=1\n",
    "plt.figure()\n",
    "plt.imshow(test_grid,cmap='bwr',vmin=-1)\n",
    "plt.axis('off')\n",
    "plt.savefig(\"test_grid.png\")"
   ]
  },
  {
   "cell_type": "code",
   "execution_count": null,
   "metadata": {},
   "outputs": [],
   "source": []
  }
 ],
 "metadata": {
  "kernelspec": {
   "display_name": "Python 3",
   "language": "python",
   "name": "python3"
  },
  "language_info": {
   "codemirror_mode": {
    "name": "ipython",
    "version": 3
   },
   "file_extension": ".py",
   "mimetype": "text/x-python",
   "name": "python",
   "nbconvert_exporter": "python",
   "pygments_lexer": "ipython3",
   "version": "3.10.13"
  }
 },
 "nbformat": 4,
 "nbformat_minor": 2
}
